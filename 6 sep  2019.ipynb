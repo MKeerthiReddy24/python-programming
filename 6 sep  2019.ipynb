{
 "cells": [
  {
   "cell_type": "code",
   "execution_count": 3,
   "metadata": {},
   "outputs": [
    {
     "name": "stdout",
     "output_type": "stream",
     "text": [
      "contact added successfully\n"
     ]
    }
   ],
   "source": [
    "# adding contacts using dictionaries\n",
    "# name, phone number\n",
    "contacts={}\n",
    "def addcontact(name,phonenumber):\n",
    "    if name not in contacts:\n",
    "        contacts[name]=phonenumber\n",
    "        print(\"contact added successfully\")\n",
    "    else:\n",
    "        print(\"contact already exists\")\n",
    "addcontact('name1',9462718333)"
   ]
  },
  {
   "cell_type": "code",
   "execution_count": 4,
   "metadata": {},
   "outputs": [
    {
     "data": {
      "text/plain": [
       "{'name1': 9462718333}"
      ]
     },
     "execution_count": 4,
     "metadata": {},
     "output_type": "execute_result"
    }
   ],
   "source": [
    "contacts"
   ]
  },
  {
   "cell_type": "code",
   "execution_count": 5,
   "metadata": {},
   "outputs": [
    {
     "name": "stdout",
     "output_type": "stream",
     "text": [
      "contact added successfully\n"
     ]
    }
   ],
   "source": [
    "def addcontact(name,phonenumber):\n",
    "    if name not in contacts:\n",
    "        contacts[name]=phonenumber\n",
    "        print(\"contact added successfully\")\n",
    "    else:\n",
    "        print(\"contact already exists\")\n",
    "addcontact('name2',94627183678)"
   ]
  },
  {
   "cell_type": "code",
   "execution_count": 6,
   "metadata": {},
   "outputs": [
    {
     "data": {
      "text/plain": [
       "{'name1': 9462718333, 'name2': 94627183678}"
      ]
     },
     "execution_count": 6,
     "metadata": {},
     "output_type": "execute_result"
    }
   ],
   "source": [
    "contacts"
   ]
  },
  {
   "cell_type": "code",
   "execution_count": 7,
   "metadata": {},
   "outputs": [
    {
     "name": "stdout",
     "output_type": "stream",
     "text": [
      "name1 : 9462718333\n"
     ]
    }
   ],
   "source": [
    "## searching contact number\n",
    "## Using key \"name\"\n",
    "def searchcontact(name):\n",
    "    if name in contacts:\n",
    "        print(name,\":\",contacts[name])\n",
    "    else:\n",
    "        print(\"doesnt exists\")\n",
    "searchcontact('name1')\n"
   ]
  },
  {
   "cell_type": "code",
   "execution_count": 9,
   "metadata": {},
   "outputs": [
    {
     "name": "stdout",
     "output_type": "stream",
     "text": [
      "doesnt exists\n"
     ]
    }
   ],
   "source": [
    "searchcontact('name3')"
   ]
  },
  {
   "cell_type": "code",
   "execution_count": 11,
   "metadata": {},
   "outputs": [
    {
     "name": "stdout",
     "output_type": "stream",
     "text": [
      "2 contact added succesfully\n"
     ]
    }
   ],
   "source": [
    "## Merging two contacts\n",
    "## Using update method\n",
    "def mergecontacts(newcontacts):\n",
    "    contacts.update(newcontacts)\n",
    "    print(len(newcontacts.keys()),\"contact added succesfully\")\n",
    "newcontacts={'name2':7482347388,'name3':9534323423}\n",
    "mergecontacts(newcontacts)"
   ]
  },
  {
   "cell_type": "code",
   "execution_count": 12,
   "metadata": {},
   "outputs": [
    {
     "data": {
      "text/plain": [
       "{'name1': 9462718333, 'name2': 7482347388, 'name3': 9534323423}"
      ]
     },
     "execution_count": 12,
     "metadata": {},
     "output_type": "execute_result"
    }
   ],
   "source": [
    "contacts"
   ]
  },
  {
   "cell_type": "code",
   "execution_count": 15,
   "metadata": {},
   "outputs": [
    {
     "name": "stdout",
     "output_type": "stream",
     "text": [
      "contact added\n"
     ]
    }
   ],
   "source": [
    "## Dictionary:Mobilecontacts\n",
    "## Add a contact\n",
    "## key:'a',value:62739318343\n",
    "mobilecontacts={}\n",
    "def addcontacts(name,number):\n",
    "    if name not in mobilecontacts:\n",
    "        mobilecontacts[name]=number\n",
    "        print(\"contact added\")\n",
    "    else:\n",
    "        print(\"contact already exists\")\n",
    "addcontacts('a',84874584945)\n"
   ]
  },
  {
   "cell_type": "code",
   "execution_count": 17,
   "metadata": {},
   "outputs": [
    {
     "data": {
      "text/plain": [
       "{'a': 84874584945}"
      ]
     },
     "execution_count": 17,
     "metadata": {},
     "output_type": "execute_result"
    }
   ],
   "source": [
    "mobilecontacts"
   ]
  },
  {
   "cell_type": "code",
   "execution_count": 18,
   "metadata": {},
   "outputs": [
    {
     "name": "stdout",
     "output_type": "stream",
     "text": [
      "contact added succesfully\n"
     ]
    }
   ],
   "source": [
    "## merging the contacts\n",
    "def mergecontacts(newcontact):\n",
    "    mobilecontacts.update(newcontact)\n",
    "    print(\"contact added succesfully\")\n",
    "newcontact={'b':3564253456}\n",
    "mergecontacts(newcontact)"
   ]
  },
  {
   "cell_type": "code",
   "execution_count": 19,
   "metadata": {},
   "outputs": [
    {
     "data": {
      "text/plain": [
       "{'a': 84874584945, 'b': 3564253456}"
      ]
     },
     "execution_count": 19,
     "metadata": {},
     "output_type": "execute_result"
    }
   ],
   "source": [
    "mobilecontacts"
   ]
  },
  {
   "cell_type": "markdown",
   "metadata": {},
   "source": [
    "# Packages And Modules\n",
    "##### Package  is a collection of Modules\n",
    "##### Module is collection of Functions"
   ]
  },
  {
   "cell_type": "code",
   "execution_count": 20,
   "metadata": {},
   "outputs": [
    {
     "data": {
      "text/plain": [
       "223"
      ]
     },
     "execution_count": 20,
     "metadata": {},
     "output_type": "execute_result"
    }
   ],
   "source": [
    "from math import floor \n",
    "floor(223.655634) ## returns integer value"
   ]
  },
  {
   "cell_type": "code",
   "execution_count": 35,
   "metadata": {},
   "outputs": [
    {
     "ename": "ImportError",
     "evalue": "cannot import name 'number'",
     "output_type": "error",
     "traceback": [
      "\u001b[1;31m---------------------------------------------------------------------------\u001b[0m",
      "\u001b[1;31mImportError\u001b[0m                               Traceback (most recent call last)",
      "\u001b[1;32m<ipython-input-35-af2c21274993>\u001b[0m in \u001b[0;36m<module>\u001b[1;34m()\u001b[0m\n\u001b[1;32m----> 1\u001b[1;33m \u001b[1;32mfrom\u001b[0m \u001b[0mPackages\u001b[0m\u001b[1;33m.\u001b[0m\u001b[0mnumerical\u001b[0m \u001b[1;32mimport\u001b[0m \u001b[0mnumber\u001b[0m\u001b[1;33m\u001b[0m\u001b[0m\n\u001b[0m\u001b[0;32m      2\u001b[0m \u001b[0mnumber\u001b[0m\u001b[1;33m(\u001b[0m\u001b[1;36m1234\u001b[0m\u001b[1;33m)\u001b[0m\u001b[1;33m\u001b[0m\u001b[0m\n",
      "\u001b[1;31mImportError\u001b[0m: cannot import name 'number'"
     ]
    }
   ],
   "source": [
    "from Packages.numerical import number\n",
    "number(1234)"
   ]
  },
  {
   "cell_type": "code",
   "execution_count": 36,
   "metadata": {},
   "outputs": [
    {
     "name": "stdout",
     "output_type": "stream",
     "text": [
      "22\n",
      "31\n",
      "54\n",
      "81\n",
      "47\n",
      "0\n",
      "49\n",
      "24\n",
      "55\n",
      "37\n"
     ]
    }
   ],
   "source": [
    "## generating marks using \"random\" prebuilt function \n",
    "import random\n",
    "def generatemarks(n,lb,ub):\n",
    "    for i in range(0,n):\n",
    "        print(random.randint(lb,ub)) ## randint is a method \n",
    "generatemarks(10,0,100)"
   ]
  },
  {
   "cell_type": "code",
   "execution_count": 38,
   "metadata": {},
   "outputs": [
    {
     "name": "stdout",
     "output_type": "stream",
     "text": [
      "18\n",
      "0\n",
      "18\n",
      "8\n",
      "19\n",
      "20\n",
      "16\n",
      "14\n",
      "4\n",
      "10\n",
      "18\n",
      "8\n",
      "18\n",
      "23\n",
      "8\n",
      "12\n",
      "25\n",
      "15\n",
      "1\n",
      "13\n",
      "21\n",
      "21\n",
      "14\n",
      "6\n",
      "8\n"
     ]
    }
   ],
   "source": [
    "import random\n",
    "def generatemarks(n,lb,ub):\n",
    "    for i in range(0,n):\n",
    "        print(random.randint(lb,ub)) ## randint is a method \n",
    "generatemarks(25,0,25)"
   ]
  },
  {
   "cell_type": "markdown",
   "metadata": {},
   "source": [
    "# Regular Expressions\n",
    "- sequence of characters that match with a pattern(string)\n",
    "- regular expressions works with strings\n",
    "- we have to import re\n",
    "- regular expressions start with ^ and ends with $\n",
    "\n",
    "\n",
    "\n"
   ]
  },
  {
   "cell_type": "markdown",
   "metadata": {},
   "source": [
    "- []->pattern\n",
    "-  *->Number of occurences(Zero also)\n",
    "- + -> Number of occurences(from 1)\n",
    "- .->  To match character\n",
    "- ? -> For Zero or one occurences\n",
    "- |->   OR\n",
    "- {}->  range set\n",
    "- () ->For enclosing of regular expressions\n"
   ]
  },
  {
   "cell_type": "markdown",
   "metadata": {},
   "source": [
    "- [0-9]->Any digit\n",
    "- [a-z]->Any lower case alphabet\n",
    "- [2468]->All single digit multiples of 2\n",
    "- ^[0-9]{1}$ Only single digit numbers\n",
    "- ^[0-9]{3}$ Only 3 digit numbers\n",
    "- [0-9]*0$->All multiples of 10\n",
    "- ^([1-9][0-9]*[05])|([5])->All multiples of 5\n",
    "-  [w][o][r][d] or (word)-> Searching for a 'word'\n"
   ]
  },
  {
   "cell_type": "markdown",
   "metadata": {},
   "source": [
    "### Regular expression\n",
    "##### Phone Number:Pattern=^[6-9][0-9]{9}$"
   ]
  },
  {
   "cell_type": "code",
   "execution_count": 42,
   "metadata": {},
   "outputs": [
    {
     "name": "stdout",
     "output_type": "stream",
     "text": [
      "valid\n"
     ]
    }
   ],
   "source": [
    "## Function for phonenumber validation using\n",
    "## Regular Expression\n",
    "import re\n",
    "def phonenumbervalidator(number):\n",
    "    number=str(number)\n",
    "    pattern='^[6-9][0-9]{9}$'\n",
    "    if re.match(pattern,number): ## match is a method for comparison\n",
    "        print(\"valid\")\n",
    "    else:\n",
    "        print(\"invalid\")\n",
    "phonenumbervalidator(7321478659)"
   ]
  },
  {
   "cell_type": "code",
   "execution_count": 43,
   "metadata": {},
   "outputs": [
    {
     "name": "stdout",
     "output_type": "stream",
     "text": [
      "invalid\n"
     ]
    }
   ],
   "source": [
    "phonenumbervalidator(3123456789)"
   ]
  },
  {
   "cell_type": "code",
   "execution_count": 44,
   "metadata": {},
   "outputs": [
    {
     "name": "stdout",
     "output_type": "stream",
     "text": [
      "valid\n"
     ]
    }
   ],
   "source": [
    "import re\n",
    "def phonenumbervalidator(number):\n",
    "    number=str(number)\n",
    "    pattern='^[0-9][0-9]{9}$'\n",
    "    if re.match(pattern,number): ## match is a method for comparison\n",
    "        print(\"valid\")\n",
    "    else:\n",
    "        print(\"invalid\")\n",
    "phonenumbervalidator(7321478659)"
   ]
  },
  {
   "cell_type": "code",
   "execution_count": 46,
   "metadata": {},
   "outputs": [
    {
     "name": "stdout",
     "output_type": "stream",
     "text": [
      "valid\n"
     ]
    }
   ],
   "source": [
    "## email validation\n",
    "## Email id: username,domain,extension\n",
    "## pattern:'^[a-z0-9][a-z0-9_.]{3,18}[@][a-z0-9]{4,18}[.][a-z]{2,4}'\n",
    "def mailvalidator(mail):\n",
    "    pattern='^[a-z0-9][a-z0-9_.]{3,18}[@][a-z0-9]{4,18}[.][a-z]{2,4}'\n",
    "    if re.match(pattern,mail):\n",
    "        print(\"valid\")\n",
    "    else:\n",
    "        print(\"invalid\")\n",
    "mailvalidator('keerthireddy2451@gmail.com')"
   ]
  },
  {
   "cell_type": "code",
   "execution_count": 50,
   "metadata": {},
   "outputs": [
    {
     "name": "stdout",
     "output_type": "stream",
     "text": [
      "invalid\n"
     ]
    }
   ],
   "source": [
    "mailvalidator('Adshfj87@jff.kgj')"
   ]
  },
  {
   "cell_type": "markdown",
   "metadata": {},
   "source": [
    "# File Handling\n",
    "- its a collection of related information\n",
    "- basic steps\n",
    "    - opening a file\n",
    "    - performing operations(read,write,append)\n",
    "    - closing a file"
   ]
  },
  {
   "cell_type": "markdown",
   "metadata": {},
   "source": [
    "### Syntax: \n",
    "- file_obj=open(\"filepath\",\"mode\")"
   ]
  },
  {
   "cell_type": "code",
   "execution_count": 53,
   "metadata": {},
   "outputs": [
    {
     "name": "stdout",
     "output_type": "stream",
     "text": [
      "Line 1\n",
      "Line 2\n",
      "Line 3\n"
     ]
    }
   ],
   "source": [
    "f=open(\"data files/data.txt\",\"r\")\n",
    "print(f.read())\n",
    "f.close()"
   ]
  },
  {
   "cell_type": "code",
   "execution_count": 57,
   "metadata": {},
   "outputs": [],
   "source": [
    "with open(\"data files/data.txt\",\"a\") as f: \n",
    "    f.write(\"Line 5\") # adds Line 5 with the previous data"
   ]
  },
  {
   "cell_type": "code",
   "execution_count": 58,
   "metadata": {},
   "outputs": [],
   "source": [
    "with open(\"data files/data.txt\",\"w\") as f: \n",
    "    f.write(\"Line 6\") # previous data erases and and stores Line 6"
   ]
  },
  {
   "cell_type": "code",
   "execution_count": 73,
   "metadata": {},
   "outputs": [
    {
     "name": "stdout",
     "output_type": "stream",
     "text": [
      "75\n",
      "94\n",
      "0\n"
     ]
    }
   ],
   "source": [
    "with open(\"data files/data.txt\",'a+') as f: ## '+' is to perform both read and write\n",
    "    f.read()\n",
    "    print(f.tell())\n",
    "    f.write(\"line2\\nline3\\nline4\")\n",
    "    print(f.tell()) ## tell is to get cursor position\n",
    "    f.seek(0) ## to change the cursor position \n",
    "    print(f.tell())"
   ]
  },
  {
   "cell_type": "code",
   "execution_count": 77,
   "metadata": {},
   "outputs": [
    {
     "name": "stdout",
     "output_type": "stream",
     "text": [
      "13\n",
      "32\n"
     ]
    }
   ],
   "source": [
    "with open(\"data files/file.txt\",'a+') as s:\n",
    "    s.read()\n",
    "    print(s.tell())\n",
    "    s.write(\"line1\\nline2\\nline3\")\n",
    "    print(s.tell())"
   ]
  },
  {
   "cell_type": "code",
   "execution_count": 78,
   "metadata": {},
   "outputs": [
    {
     "name": "stdout",
     "output_type": "stream",
     "text": [
      "Line 6sourcesourceline2\n",
      "\n",
      "['line3\\n', 'line4line2\\n', 'line3\\n', 'line4line2\\n', 'line3\\n', 'line4line2\\n', 'line3\\n', 'line4line1\\n', 'line2\\n', 'line3line1\\n', 'line2\\n', 'line3line1\\n', 'line2\\n', 'line3']\n"
     ]
    }
   ],
   "source": [
    "with open(\"data files/data.txt\") as f:\n",
    "    print(f.readline())\n",
    "    print(f.readlines())  "
   ]
  },
  {
   "cell_type": "code",
   "execution_count": 82,
   "metadata": {},
   "outputs": [
    {
     "name": "stdout",
     "output_type": "stream",
     "text": [
      "['this', 'is', 'python', 'programming']\n"
     ]
    }
   ],
   "source": [
    "with open(\"data files/data.txt\",\"r\") as f: \n",
    "    fh=f.read()\n",
    "    words=fh.split('$')\n",
    "    print(words)\n",
    "    "
   ]
  },
  {
   "cell_type": "code",
   "execution_count": 4,
   "metadata": {},
   "outputs": [
    {
     "name": "stdout",
     "output_type": "stream",
     "text": [
      "this is python programming\n",
      "data files\n",
      "file handling\n"
     ]
    }
   ],
   "source": [
    "def readfile(filepath):\n",
    "    with open(filepath,'r') as f:\n",
    "        filedata=f.read() # reads the entire the file\n",
    "    return filedata\n",
    "filepath='data files/data.txt'\n",
    "print(readfile(filepath))"
   ]
  },
  {
   "cell_type": "code",
   "execution_count": 8,
   "metadata": {},
   "outputs": [
    {
     "name": "stdout",
     "output_type": "stream",
     "text": [
      "3\n"
     ]
    }
   ],
   "source": [
    "#to count no of lines\n",
    "def linecount(filename):\n",
    "    count=0\n",
    "    with open(filename,'r') as f:\n",
    "        for i in f:\n",
    "            count=count+1\n",
    "    return count\n",
    "filename='data files/data.txt'\n",
    "print(linecount(filename))"
   ]
  },
  {
   "cell_type": "code",
   "execution_count": 20,
   "metadata": {},
   "outputs": [
    {
     "name": "stdout",
     "output_type": "stream",
     "text": [
      "9\n"
     ]
    }
   ],
   "source": [
    "# to count no of words\n",
    "import re\n",
    "def wordcount(filename):\n",
    "        count=0\n",
    "        with open(filepath,'r') as f:\n",
    "            filedata=f.read()\n",
    "        pattern='[ \\n]'\n",
    "        filedata=readfile(filepath)\n",
    "        count=len(re.split(pattern,filedata))\n",
    "        return count\n",
    "filepath=\"data files/data.txt\"\n",
    "print(wordcount(filepath))"
   ]
  },
  {
   "cell_type": "code",
   "execution_count": 28,
   "metadata": {},
   "outputs": [
    {
     "data": {
      "text/plain": [
       "['this', 'is', 'python', 'program']"
      ]
     },
     "execution_count": 28,
     "metadata": {},
     "output_type": "execute_result"
    }
   ],
   "source": [
    "def uniquelist(filepath):\n",
    "    with open(filepath,\"r\") as f: \n",
    "        fh=f.read()\n",
    "        words=fh.split()\n",
    "        unique=[]\n",
    "    for i in words:\n",
    "        if i not in unique:\n",
    "            unique.append(i)\n",
    "    return unique\n",
    "uniquelist(\"data files/data.txt\")\n"
   ]
  },
  {
   "cell_type": "code",
   "execution_count": 40,
   "metadata": {},
   "outputs": [
    {
     "data": {
      "text/plain": [
       "{'this': 2, 'is': 3, 'python': 1, 'program': 3, 'object': 1}"
      ]
     },
     "execution_count": 40,
     "metadata": {},
     "output_type": "execute_result"
    }
   ],
   "source": [
    "def wordfrequency(filepath):\n",
    "    with open(filepath,\"r\") as f: \n",
    "        fh=f.read()\n",
    "        words=fh.split()\n",
    "        wordfreq={}\n",
    "    for i in words:\n",
    "        if i not in wordfreq:\n",
    "            wordfreq[i]=1\n",
    "        else:\n",
    "            wordfreq[i]+=1\n",
    "    return wordfreq\n",
    "wordfrequency(filepath)"
   ]
  },
  {
   "cell_type": "markdown",
   "metadata": {},
   "source": [
    "# Sets and its methods"
   ]
  },
  {
   "cell_type": "code",
   "execution_count": 41,
   "metadata": {},
   "outputs": [],
   "source": [
    "## sets are used to remove duplicate values\n",
    "## ()\n"
   ]
  },
  {
   "cell_type": "code",
   "execution_count": 42,
   "metadata": {},
   "outputs": [
    {
     "name": "stdout",
     "output_type": "stream",
     "text": [
      "{1, 'abc', 43, 45, 23, 121}\n"
     ]
    }
   ],
   "source": [
    "l=(121,\"abc\",23,45,43,43,1,\"abc\")\n",
    "print(set(l))"
   ]
  },
  {
   "cell_type": "code",
   "execution_count": 43,
   "metadata": {},
   "outputs": [
    {
     "data": {
      "text/plain": [
       "['__and__',\n",
       " '__class__',\n",
       " '__contains__',\n",
       " '__delattr__',\n",
       " '__dir__',\n",
       " '__doc__',\n",
       " '__eq__',\n",
       " '__format__',\n",
       " '__ge__',\n",
       " '__getattribute__',\n",
       " '__gt__',\n",
       " '__hash__',\n",
       " '__iand__',\n",
       " '__init__',\n",
       " '__init_subclass__',\n",
       " '__ior__',\n",
       " '__isub__',\n",
       " '__iter__',\n",
       " '__ixor__',\n",
       " '__le__',\n",
       " '__len__',\n",
       " '__lt__',\n",
       " '__ne__',\n",
       " '__new__',\n",
       " '__or__',\n",
       " '__rand__',\n",
       " '__reduce__',\n",
       " '__reduce_ex__',\n",
       " '__repr__',\n",
       " '__ror__',\n",
       " '__rsub__',\n",
       " '__rxor__',\n",
       " '__setattr__',\n",
       " '__sizeof__',\n",
       " '__str__',\n",
       " '__sub__',\n",
       " '__subclasshook__',\n",
       " '__xor__',\n",
       " 'add',\n",
       " 'clear',\n",
       " 'copy',\n",
       " 'difference',\n",
       " 'difference_update',\n",
       " 'discard',\n",
       " 'intersection',\n",
       " 'intersection_update',\n",
       " 'isdisjoint',\n",
       " 'issubset',\n",
       " 'issuperset',\n",
       " 'pop',\n",
       " 'remove',\n",
       " 'symmetric_difference',\n",
       " 'symmetric_difference_update',\n",
       " 'union',\n",
       " 'update']"
      ]
     },
     "execution_count": 43,
     "metadata": {},
     "output_type": "execute_result"
    }
   ],
   "source": [
    "dir(set)"
   ]
  },
  {
   "cell_type": "code",
   "execution_count": 49,
   "metadata": {},
   "outputs": [
    {
     "name": "stdout",
     "output_type": "stream",
     "text": [
      "{32, 1, 34, 'abc', 11, 12, 'sde', 21, 342, 'def', 1212}\n"
     ]
    }
   ],
   "source": [
    "s1={\"abc\",21,\"def\",12,1212,11}\n",
    "s2={\"sde\",342,32,34,1,32}\n",
    "print(s1.union(s2))"
   ]
  },
  {
   "cell_type": "code",
   "execution_count": 50,
   "metadata": {},
   "outputs": [
    {
     "name": "stdout",
     "output_type": "stream",
     "text": [
      "{'a', 2, 3}\n"
     ]
    }
   ],
   "source": [
    "s1={1,2,3,4,\"a\",\"b\"}\n",
    "s2={2,3,\"a\",5,6}\n",
    "print(s1.intersection(s2))"
   ]
  },
  {
   "cell_type": "code",
   "execution_count": 51,
   "metadata": {},
   "outputs": [
    {
     "name": "stdout",
     "output_type": "stream",
     "text": [
      "{1, 2, 3, 4, 5, 6, 'b', 'a'}\n"
     ]
    }
   ],
   "source": [
    "print(s1.union(s2))"
   ]
  },
  {
   "cell_type": "code",
   "execution_count": 52,
   "metadata": {},
   "outputs": [
    {
     "data": {
      "text/plain": [
       "{1, 2, 3, 4, 6, 'a', 'b'}"
      ]
     },
     "execution_count": 52,
     "metadata": {},
     "output_type": "execute_result"
    }
   ],
   "source": [
    "s1={1,2,3,4,\"a\",\"b\"}\n",
    "s1.add(6)\n",
    "s1"
   ]
  },
  {
   "cell_type": "code",
   "execution_count": 56,
   "metadata": {},
   "outputs": [
    {
     "name": "stdout",
     "output_type": "stream",
     "text": [
      "15\n",
      "18\n",
      "21\n"
     ]
    }
   ],
   "source": [
    "## tasks\n",
    "## program for generating Multiplication of table\n",
    "def table(a,b,c):\n",
    "    for i in range(b,c+1):\n",
    "        n=a*i\n",
    "        print(n)\n",
    "table(3,5,7)"
   ]
  },
  {
   "cell_type": "code",
   "execution_count": 66,
   "metadata": {},
   "outputs": [
    {
     "name": "stdout",
     "output_type": "stream",
     "text": [
      "[1, 10, 9, 8]\n",
      "10\n",
      "1\n",
      "7.857142857142857\n"
     ]
    }
   ],
   "source": [
    "# design a program to find maximum and minimum \n",
    "# and average of numbers in alist\n",
    "def uniquelist():\n",
    "    li=[1,10,10,9,9,8,8]\n",
    "    l=[]\n",
    "    for i in li:\n",
    "        if i not in l:\n",
    "            l.append(i)\n",
    "    print(l)\n",
    "    print(max(li))\n",
    "    print(min(li))\n",
    "    average=(sum(li)/len(li))\n",
    "    print(average)\n",
    "uniquelist()"
   ]
  },
  {
   "cell_type": "code",
   "execution_count": 72,
   "metadata": {},
   "outputs": [
    {
     "name": "stdout",
     "output_type": "stream",
     "text": [
      "-1\n"
     ]
    }
   ],
   "source": [
    "# write a program for linear search in list\n",
    "# if key is found print \"1\"\n",
    "# else print \"-1\"\n",
    "# l=[10,9,8,7,6],5\n",
    "def linearsearch(a):\n",
    "    l=[10,9,8,7,6]\n",
    "    if a in l:\n",
    "        print(1)\n",
    "    else:\n",
    "        print(-1)\n",
    "linearsearch(5)"
   ]
  },
  {
   "cell_type": "code",
   "execution_count": 26,
   "metadata": {},
   "outputs": [
    {
     "name": "stdout",
     "output_type": "stream",
     "text": [
      "2.0\n"
     ]
    }
   ],
   "source": [
    "# find the square root of a numbers in list\n",
    "# without using math package\n",
    "def squareroots(n):\n",
    "    l=[4,9,16,25]\n",
    "    a=n*(0.5)\n",
    "    print(a)\n",
    "squareroots(4)\n",
    "            "
   ]
  },
  {
   "cell_type": "code",
   "execution_count": 37,
   "metadata": {},
   "outputs": [
    {
     "ename": "NameError",
     "evalue": "name 'pattern2' is not defined",
     "output_type": "error",
     "traceback": [
      "\u001b[1;31m---------------------------------------------------------------------------\u001b[0m",
      "\u001b[1;31mNameError\u001b[0m                                 Traceback (most recent call last)",
      "\u001b[1;32m<ipython-input-37-fb22ef5c0d5c>\u001b[0m in \u001b[0;36m<module>\u001b[1;34m()\u001b[0m\n\u001b[0;32m     17\u001b[0m \u001b[1;33m\u001b[0m\u001b[0m\n\u001b[0;32m     18\u001b[0m \u001b[1;33m\u001b[0m\u001b[0m\n\u001b[1;32m---> 19\u001b[1;33m \u001b[0maddcontact\u001b[0m\u001b[1;33m(\u001b[0m\u001b[1;34m'name1'\u001b[0m\u001b[1;33m,\u001b[0m\u001b[1;34m'9462718333'\u001b[0m\u001b[1;33m)\u001b[0m\u001b[1;33m\u001b[0m\u001b[0m\n\u001b[0m\u001b[0;32m     20\u001b[0m \u001b[0maddmail\u001b[0m\u001b[1;33m(\u001b[0m\u001b[1;34m'name1'\u001b[0m\u001b[1;33m,\u001b[0m\u001b[1;34m'uyjhrth89@jg.dj'\u001b[0m\u001b[1;33m)\u001b[0m\u001b[1;33m\u001b[0m\u001b[0m\n",
      "\u001b[1;32m<ipython-input-37-fb22ef5c0d5c>\u001b[0m in \u001b[0;36maddcontact\u001b[1;34m(name, phonenumber)\u001b[0m\n\u001b[0;32m     11\u001b[0m             \u001b[1;32mif\u001b[0m \u001b[0mre\u001b[0m\u001b[1;33m.\u001b[0m\u001b[0mmatch\u001b[0m\u001b[1;33m(\u001b[0m\u001b[0mpattern1\u001b[0m\u001b[1;33m,\u001b[0m\u001b[0mphonenumber\u001b[0m\u001b[1;33m)\u001b[0m\u001b[1;33m:\u001b[0m\u001b[1;33m\u001b[0m\u001b[0m\n\u001b[0;32m     12\u001b[0m                 \u001b[0mcontacts\u001b[0m\u001b[1;33m[\u001b[0m\u001b[0mname\u001b[0m\u001b[1;33m]\u001b[0m\u001b[1;33m=\u001b[0m\u001b[0mphonenumber\u001b[0m\u001b[1;33m\u001b[0m\u001b[0m\n\u001b[1;32m---> 13\u001b[1;33m                 \u001b[1;32mif\u001b[0m \u001b[0mre\u001b[0m\u001b[1;33m.\u001b[0m\u001b[0mmatch\u001b[0m\u001b[1;33m(\u001b[0m\u001b[0mpattern2\u001b[0m\u001b[1;33m,\u001b[0m\u001b[0memail\u001b[0m\u001b[1;33m)\u001b[0m\u001b[1;33m:\u001b[0m\u001b[1;33m\u001b[0m\u001b[0m\n\u001b[0m\u001b[0;32m     14\u001b[0m                          \u001b[0mcontacts\u001b[0m\u001b[1;33m[\u001b[0m\u001b[0mname\u001b[0m\u001b[1;33m]\u001b[0m\u001b[1;33m=\u001b[0m\u001b[0memail\u001b[0m\u001b[1;33m\u001b[0m\u001b[0m\n\u001b[0;32m     15\u001b[0m                 \u001b[1;32melse\u001b[0m\u001b[1;33m:\u001b[0m\u001b[1;33m\u001b[0m\u001b[0m\n",
      "\u001b[1;31mNameError\u001b[0m: name 'pattern2' is not defined"
     ]
    }
   ],
   "source": [
    "# using a regular expression\n",
    "# ADD a name,phonenumber and email to contacts\n",
    "#Dictionary\n",
    "      \n",
    "contacts={}\n",
    "import re\n",
    "def addcontact(name,phonenumber):\n",
    "            pattern1='^[6-9][0-9]{9}'\n",
    "            def addmail(name,email):\n",
    "                 pattern2='^[a-z0-9][a-z0-9_.]{3,18}[@][a-z0-9]{4,18}[.][a-z]{2,4}'\n",
    "            if re.match(pattern1,phonenumber):\n",
    "                contacts[name]=phonenumber\n",
    "                if re.match(pattern2,email):\n",
    "                         contacts[name]=email\n",
    "                else:\n",
    "                        print(\"cant add\")\n",
    "addcontact('name1','9462718333')\n",
    "addmail('name1','uyjhrth89@jg.dj')\n"
   ]
  },
  {
   "cell_type": "code",
   "execution_count": null,
   "metadata": {},
   "outputs": [],
   "source": []
  }
 ],
 "metadata": {
  "kernelspec": {
   "display_name": "Python 3",
   "language": "python",
   "name": "python3"
  },
  "language_info": {
   "codemirror_mode": {
    "name": "ipython",
    "version": 3
   },
   "file_extension": ".py",
   "mimetype": "text/x-python",
   "name": "python",
   "nbconvert_exporter": "python",
   "pygments_lexer": "ipython3",
   "version": "3.6.5"
  }
 },
 "nbformat": 4,
 "nbformat_minor": 2
}
